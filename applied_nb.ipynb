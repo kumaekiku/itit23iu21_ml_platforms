{
 "cells": [
  {
   "cell_type": "code",
   "execution_count": 2,
   "id": "88a7989b-acfe-4ffa-bcb5-29c61237e48e",
   "metadata": {},
   "outputs": [],
   "source": [
    "import pandas as pd\n",
    "import numpy as np\n",
    "import matplotlib.pyplot as plt\n",
    "import seaborn as sns\n",
    "import pickle\n",
    "\n",
    "from sklearn.metrics import mutual_info_score, confusion_matrix, roc_auc_score\n",
    "from sklearn.model_selection import train_test_split\n",
    "from sklearn.naive_bayes import GaussianNB, MultinomialNB, BernoulliNB\n",
    "    \n",
    "from model_wrapper import NBWrapper"
   ]
  },
  {
   "cell_type": "markdown",
   "id": "067b0d44-61b5-4856-ae0f-3fe92ed3040c",
   "metadata": {},
   "source": [
    "# Chapter 1: Data understanding and processing (EDA)"
   ]
  },
  {
   "cell_type": "markdown",
   "id": "ad15df40-ae9a-4e22-90b3-6e9b256b8bcf",
   "metadata": {},
   "source": [
    "## 1.1 Get to know the data"
   ]
  },
  {
   "cell_type": "code",
   "execution_count": 3,
   "id": "7217b34e-940a-47c7-9e06-7f9615db6d27",
   "metadata": {},
   "outputs": [
    {
     "name": "stdout",
     "output_type": "stream",
     "text": [
      "<class 'pandas.core.frame.DataFrame'>\n",
      "RangeIndex: 14999 entries, 0 to 14998\n",
      "Data columns (total 10 columns):\n",
      " #   Column                 Non-Null Count  Dtype  \n",
      "---  ------                 --------------  -----  \n",
      " 0   satisfaction_level     14999 non-null  float64\n",
      " 1   last_evaluation        14999 non-null  float64\n",
      " 2   number_project         14999 non-null  int64  \n",
      " 3   average_montly_hours   14999 non-null  int64  \n",
      " 4   time_spend_company     14999 non-null  int64  \n",
      " 5   Work_accident          14999 non-null  int64  \n",
      " 6   left                   14999 non-null  int64  \n",
      " 7   promotion_last_5years  14999 non-null  int64  \n",
      " 8   Department             14999 non-null  object \n",
      " 9   salary                 14999 non-null  object \n",
      "dtypes: float64(2), int64(6), object(2)\n",
      "memory usage: 1.1+ MB\n"
     ]
    }
   ],
   "source": [
    "path = \"./HR_comma_sep.csv\"\n",
    "df = pd.read_csv(path)\n",
    "df.info()"
   ]
  },
  {
   "cell_type": "code",
   "execution_count": 4,
   "id": "5a042bff-4a07-41fe-933f-e0ca80dc356e",
   "metadata": {},
   "outputs": [
    {
     "data": {
      "text/html": [
       "<div>\n",
       "<style scoped>\n",
       "    .dataframe tbody tr th:only-of-type {\n",
       "        vertical-align: middle;\n",
       "    }\n",
       "\n",
       "    .dataframe tbody tr th {\n",
       "        vertical-align: top;\n",
       "    }\n",
       "\n",
       "    .dataframe thead th {\n",
       "        text-align: right;\n",
       "    }\n",
       "</style>\n",
       "<table border=\"1\" class=\"dataframe\">\n",
       "  <thead>\n",
       "    <tr style=\"text-align: right;\">\n",
       "      <th></th>\n",
       "      <th>satisfaction_level</th>\n",
       "      <th>last_evaluation</th>\n",
       "      <th>number_project</th>\n",
       "      <th>average_montly_hours</th>\n",
       "      <th>time_spend_company</th>\n",
       "      <th>Work_accident</th>\n",
       "      <th>left</th>\n",
       "      <th>promotion_last_5years</th>\n",
       "      <th>Department</th>\n",
       "      <th>salary</th>\n",
       "    </tr>\n",
       "  </thead>\n",
       "  <tbody>\n",
       "    <tr>\n",
       "      <th>0</th>\n",
       "      <td>0.38</td>\n",
       "      <td>0.53</td>\n",
       "      <td>2</td>\n",
       "      <td>157</td>\n",
       "      <td>3</td>\n",
       "      <td>0</td>\n",
       "      <td>1</td>\n",
       "      <td>0</td>\n",
       "      <td>sales</td>\n",
       "      <td>low</td>\n",
       "    </tr>\n",
       "    <tr>\n",
       "      <th>1</th>\n",
       "      <td>0.80</td>\n",
       "      <td>0.86</td>\n",
       "      <td>5</td>\n",
       "      <td>262</td>\n",
       "      <td>6</td>\n",
       "      <td>0</td>\n",
       "      <td>1</td>\n",
       "      <td>0</td>\n",
       "      <td>sales</td>\n",
       "      <td>medium</td>\n",
       "    </tr>\n",
       "    <tr>\n",
       "      <th>2</th>\n",
       "      <td>0.11</td>\n",
       "      <td>0.88</td>\n",
       "      <td>7</td>\n",
       "      <td>272</td>\n",
       "      <td>4</td>\n",
       "      <td>0</td>\n",
       "      <td>1</td>\n",
       "      <td>0</td>\n",
       "      <td>sales</td>\n",
       "      <td>medium</td>\n",
       "    </tr>\n",
       "    <tr>\n",
       "      <th>3</th>\n",
       "      <td>0.72</td>\n",
       "      <td>0.87</td>\n",
       "      <td>5</td>\n",
       "      <td>223</td>\n",
       "      <td>5</td>\n",
       "      <td>0</td>\n",
       "      <td>1</td>\n",
       "      <td>0</td>\n",
       "      <td>sales</td>\n",
       "      <td>low</td>\n",
       "    </tr>\n",
       "    <tr>\n",
       "      <th>4</th>\n",
       "      <td>0.37</td>\n",
       "      <td>0.52</td>\n",
       "      <td>2</td>\n",
       "      <td>159</td>\n",
       "      <td>3</td>\n",
       "      <td>0</td>\n",
       "      <td>1</td>\n",
       "      <td>0</td>\n",
       "      <td>sales</td>\n",
       "      <td>low</td>\n",
       "    </tr>\n",
       "    <tr>\n",
       "      <th>5</th>\n",
       "      <td>0.41</td>\n",
       "      <td>0.50</td>\n",
       "      <td>2</td>\n",
       "      <td>153</td>\n",
       "      <td>3</td>\n",
       "      <td>0</td>\n",
       "      <td>1</td>\n",
       "      <td>0</td>\n",
       "      <td>sales</td>\n",
       "      <td>low</td>\n",
       "    </tr>\n",
       "    <tr>\n",
       "      <th>6</th>\n",
       "      <td>0.10</td>\n",
       "      <td>0.77</td>\n",
       "      <td>6</td>\n",
       "      <td>247</td>\n",
       "      <td>4</td>\n",
       "      <td>0</td>\n",
       "      <td>1</td>\n",
       "      <td>0</td>\n",
       "      <td>sales</td>\n",
       "      <td>low</td>\n",
       "    </tr>\n",
       "    <tr>\n",
       "      <th>7</th>\n",
       "      <td>0.92</td>\n",
       "      <td>0.85</td>\n",
       "      <td>5</td>\n",
       "      <td>259</td>\n",
       "      <td>5</td>\n",
       "      <td>0</td>\n",
       "      <td>1</td>\n",
       "      <td>0</td>\n",
       "      <td>sales</td>\n",
       "      <td>low</td>\n",
       "    </tr>\n",
       "    <tr>\n",
       "      <th>8</th>\n",
       "      <td>0.89</td>\n",
       "      <td>1.00</td>\n",
       "      <td>5</td>\n",
       "      <td>224</td>\n",
       "      <td>5</td>\n",
       "      <td>0</td>\n",
       "      <td>1</td>\n",
       "      <td>0</td>\n",
       "      <td>sales</td>\n",
       "      <td>low</td>\n",
       "    </tr>\n",
       "    <tr>\n",
       "      <th>9</th>\n",
       "      <td>0.42</td>\n",
       "      <td>0.53</td>\n",
       "      <td>2</td>\n",
       "      <td>142</td>\n",
       "      <td>3</td>\n",
       "      <td>0</td>\n",
       "      <td>1</td>\n",
       "      <td>0</td>\n",
       "      <td>sales</td>\n",
       "      <td>low</td>\n",
       "    </tr>\n",
       "  </tbody>\n",
       "</table>\n",
       "</div>"
      ],
      "text/plain": [
       "   satisfaction_level  last_evaluation  number_project  average_montly_hours  \\\n",
       "0                0.38             0.53               2                   157   \n",
       "1                0.80             0.86               5                   262   \n",
       "2                0.11             0.88               7                   272   \n",
       "3                0.72             0.87               5                   223   \n",
       "4                0.37             0.52               2                   159   \n",
       "5                0.41             0.50               2                   153   \n",
       "6                0.10             0.77               6                   247   \n",
       "7                0.92             0.85               5                   259   \n",
       "8                0.89             1.00               5                   224   \n",
       "9                0.42             0.53               2                   142   \n",
       "\n",
       "   time_spend_company  Work_accident  left  promotion_last_5years Department  \\\n",
       "0                   3              0     1                      0      sales   \n",
       "1                   6              0     1                      0      sales   \n",
       "2                   4              0     1                      0      sales   \n",
       "3                   5              0     1                      0      sales   \n",
       "4                   3              0     1                      0      sales   \n",
       "5                   3              0     1                      0      sales   \n",
       "6                   4              0     1                      0      sales   \n",
       "7                   5              0     1                      0      sales   \n",
       "8                   5              0     1                      0      sales   \n",
       "9                   3              0     1                      0      sales   \n",
       "\n",
       "   salary  \n",
       "0     low  \n",
       "1  medium  \n",
       "2  medium  \n",
       "3     low  \n",
       "4     low  \n",
       "5     low  \n",
       "6     low  \n",
       "7     low  \n",
       "8     low  \n",
       "9     low  "
      ]
     },
     "execution_count": 4,
     "metadata": {},
     "output_type": "execute_result"
    }
   ],
   "source": [
    "df.head(10)"
   ]
  },
  {
   "cell_type": "markdown",
   "id": "e7b0acf3-5d54-44fb-9110-e2d96590b8d0",
   "metadata": {},
   "source": [
    "Th dataset contains information about employees who worked in a company. These information included:\n",
    "- Satisfactory Level\n",
    "- Number of Project\n",
    "- Average Monthly Hours\n",
    "- Time Spend Company\n",
    "- Promotion Last 5 Years\n",
    "- Department\n",
    "- Salary\n",
    "\n",
    "The information was obtained mainly to predict employees retention - choose to stay or leave the company - defined by the \"left\" column "
   ]
  },
  {
   "cell_type": "code",
   "execution_count": 5,
   "id": "664290ba-f688-4555-be2c-80f29dd56015",
   "metadata": {},
   "outputs": [
    {
     "data": {
      "text/html": [
       "<div>\n",
       "<style scoped>\n",
       "    .dataframe tbody tr th:only-of-type {\n",
       "        vertical-align: middle;\n",
       "    }\n",
       "\n",
       "    .dataframe tbody tr th {\n",
       "        vertical-align: top;\n",
       "    }\n",
       "\n",
       "    .dataframe thead th {\n",
       "        text-align: right;\n",
       "    }\n",
       "</style>\n",
       "<table border=\"1\" class=\"dataframe\">\n",
       "  <thead>\n",
       "    <tr style=\"text-align: right;\">\n",
       "      <th></th>\n",
       "      <th>count</th>\n",
       "      <th>mean</th>\n",
       "      <th>std</th>\n",
       "      <th>min</th>\n",
       "      <th>25%</th>\n",
       "      <th>50%</th>\n",
       "      <th>75%</th>\n",
       "      <th>max</th>\n",
       "    </tr>\n",
       "  </thead>\n",
       "  <tbody>\n",
       "    <tr>\n",
       "      <th>satisfaction_level</th>\n",
       "      <td>14999.0</td>\n",
       "      <td>0.612834</td>\n",
       "      <td>0.248631</td>\n",
       "      <td>0.09</td>\n",
       "      <td>0.44</td>\n",
       "      <td>0.64</td>\n",
       "      <td>0.82</td>\n",
       "      <td>1.0</td>\n",
       "    </tr>\n",
       "    <tr>\n",
       "      <th>last_evaluation</th>\n",
       "      <td>14999.0</td>\n",
       "      <td>0.716102</td>\n",
       "      <td>0.171169</td>\n",
       "      <td>0.36</td>\n",
       "      <td>0.56</td>\n",
       "      <td>0.72</td>\n",
       "      <td>0.87</td>\n",
       "      <td>1.0</td>\n",
       "    </tr>\n",
       "    <tr>\n",
       "      <th>number_project</th>\n",
       "      <td>14999.0</td>\n",
       "      <td>3.803054</td>\n",
       "      <td>1.232592</td>\n",
       "      <td>2.00</td>\n",
       "      <td>3.00</td>\n",
       "      <td>4.00</td>\n",
       "      <td>5.00</td>\n",
       "      <td>7.0</td>\n",
       "    </tr>\n",
       "    <tr>\n",
       "      <th>average_montly_hours</th>\n",
       "      <td>14999.0</td>\n",
       "      <td>201.050337</td>\n",
       "      <td>49.943099</td>\n",
       "      <td>96.00</td>\n",
       "      <td>156.00</td>\n",
       "      <td>200.00</td>\n",
       "      <td>245.00</td>\n",
       "      <td>310.0</td>\n",
       "    </tr>\n",
       "    <tr>\n",
       "      <th>time_spend_company</th>\n",
       "      <td>14999.0</td>\n",
       "      <td>3.498233</td>\n",
       "      <td>1.460136</td>\n",
       "      <td>2.00</td>\n",
       "      <td>3.00</td>\n",
       "      <td>3.00</td>\n",
       "      <td>4.00</td>\n",
       "      <td>10.0</td>\n",
       "    </tr>\n",
       "    <tr>\n",
       "      <th>Work_accident</th>\n",
       "      <td>14999.0</td>\n",
       "      <td>0.144610</td>\n",
       "      <td>0.351719</td>\n",
       "      <td>0.00</td>\n",
       "      <td>0.00</td>\n",
       "      <td>0.00</td>\n",
       "      <td>0.00</td>\n",
       "      <td>1.0</td>\n",
       "    </tr>\n",
       "    <tr>\n",
       "      <th>left</th>\n",
       "      <td>14999.0</td>\n",
       "      <td>0.238083</td>\n",
       "      <td>0.425924</td>\n",
       "      <td>0.00</td>\n",
       "      <td>0.00</td>\n",
       "      <td>0.00</td>\n",
       "      <td>0.00</td>\n",
       "      <td>1.0</td>\n",
       "    </tr>\n",
       "    <tr>\n",
       "      <th>promotion_last_5years</th>\n",
       "      <td>14999.0</td>\n",
       "      <td>0.021268</td>\n",
       "      <td>0.144281</td>\n",
       "      <td>0.00</td>\n",
       "      <td>0.00</td>\n",
       "      <td>0.00</td>\n",
       "      <td>0.00</td>\n",
       "      <td>1.0</td>\n",
       "    </tr>\n",
       "  </tbody>\n",
       "</table>\n",
       "</div>"
      ],
      "text/plain": [
       "                         count        mean        std    min     25%     50%  \\\n",
       "satisfaction_level     14999.0    0.612834   0.248631   0.09    0.44    0.64   \n",
       "last_evaluation        14999.0    0.716102   0.171169   0.36    0.56    0.72   \n",
       "number_project         14999.0    3.803054   1.232592   2.00    3.00    4.00   \n",
       "average_montly_hours   14999.0  201.050337  49.943099  96.00  156.00  200.00   \n",
       "time_spend_company     14999.0    3.498233   1.460136   2.00    3.00    3.00   \n",
       "Work_accident          14999.0    0.144610   0.351719   0.00    0.00    0.00   \n",
       "left                   14999.0    0.238083   0.425924   0.00    0.00    0.00   \n",
       "promotion_last_5years  14999.0    0.021268   0.144281   0.00    0.00    0.00   \n",
       "\n",
       "                          75%    max  \n",
       "satisfaction_level       0.82    1.0  \n",
       "last_evaluation          0.87    1.0  \n",
       "number_project           5.00    7.0  \n",
       "average_montly_hours   245.00  310.0  \n",
       "time_spend_company       4.00   10.0  \n",
       "Work_accident            0.00    1.0  \n",
       "left                     0.00    1.0  \n",
       "promotion_last_5years    0.00    1.0  "
      ]
     },
     "execution_count": 5,
     "metadata": {},
     "output_type": "execute_result"
    }
   ],
   "source": [
    "df.describe().T"
   ]
  },
  {
   "cell_type": "markdown",
   "id": "2ec4e509-578d-47df-ac55-595f6511b52b",
   "metadata": {},
   "source": [
    "## 1.2 Data cleaning and preprocessing\n",
    "Include handling with:\n",
    "- Inconsistent in col names\n",
    "- Missing values\n",
    "- Duplicate values\n",
    "- Identify target variable and features\n",
    "- Features importance and engineering\n",
    "- Outliers\n",
    "- Validation framework\n",
    "- Label encoding with One-hot"
   ]
  },
  {
   "cell_type": "markdown",
   "id": "38b7c55b-dab4-4705-89b9-c3526ed089bb",
   "metadata": {},
   "source": [
    "### inconsistent column names"
   ]
  },
  {
   "cell_type": "code",
   "execution_count": 6,
   "id": "d2147ff2-044d-4b55-968a-2308fe18c372",
   "metadata": {},
   "outputs": [
    {
     "name": "stdout",
     "output_type": "stream",
     "text": [
      "['satisfaction_level', 'last_evaluation', 'number_project', 'average_montly_hours', 'time_spend_company', 'work_accident', 'left', 'promotion_last_5years', 'department', 'salary']\n"
     ]
    }
   ],
   "source": [
    "# normailize cols name\n",
    "df.columns = df.columns.str.lower()\n",
    "print(list(df.columns))"
   ]
  },
  {
   "cell_type": "markdown",
   "id": "38f2dcd1-cf1c-4fa6-b918-36e681df0205",
   "metadata": {},
   "source": [
    "### missing values"
   ]
  },
  {
   "cell_type": "code",
   "execution_count": 7,
   "id": "eb7bd061-b23f-4bcc-a4ea-0d60679be689",
   "metadata": {},
   "outputs": [
    {
     "data": {
      "text/plain": [
       "satisfaction_level       0\n",
       "last_evaluation          0\n",
       "number_project           0\n",
       "average_montly_hours     0\n",
       "time_spend_company       0\n",
       "work_accident            0\n",
       "left                     0\n",
       "promotion_last_5years    0\n",
       "department               0\n",
       "salary                   0\n",
       "dtype: int64"
      ]
     },
     "execution_count": 7,
     "metadata": {},
     "output_type": "execute_result"
    }
   ],
   "source": [
    "# missing values\n",
    "df.isnull().sum()"
   ]
  },
  {
   "cell_type": "markdown",
   "id": "8ac7523e-f903-45af-9a65-765e6cf486c0",
   "metadata": {},
   "source": [
    "$\\to$ Luckily, no missing values were found"
   ]
  },
  {
   "cell_type": "markdown",
   "id": "5e2b53ff-7986-46b4-b617-a7f59cd01b35",
   "metadata": {},
   "source": [
    "### duplicate values"
   ]
  },
  {
   "cell_type": "code",
   "execution_count": 8,
   "id": "2b5557bb-5646-4903-b0ee-a152a78dc7a1",
   "metadata": {},
   "outputs": [
    {
     "name": "stdout",
     "output_type": "stream",
     "text": [
      "0.2005467031135409\n"
     ]
    }
   ],
   "source": [
    "# duplicate values\n",
    "dups = df.duplicated().sum()\n",
    "print(dups/df.shape[0])"
   ]
  },
  {
   "cell_type": "markdown",
   "id": "bdc88a2c-1fb4-4a6a-8b98-4a2152bb74f6",
   "metadata": {},
   "source": [
    "$\\to$ 20% of the data were found to be duplicates. In this particular case, we will remove all the duplicates to prevent skewed, as each instances in the data represent an employee, and each of them should be treated independently for the best prediction result."
   ]
  },
  {
   "cell_type": "code",
   "execution_count": 9,
   "id": "875a1b4f-ddab-4404-9748-61a2eea2696d",
   "metadata": {},
   "outputs": [
    {
     "name": "stdout",
     "output_type": "stream",
     "text": [
      "Before: (14999, 10)\n",
      "After: (11991, 10)\n"
     ]
    }
   ],
   "source": [
    "# handle duplication\n",
    "print(f\"Before: {df.shape}\")\n",
    "df = df.drop_duplicates(keep='first')\n",
    "print(f\"After: {df.shape}\")"
   ]
  },
  {
   "cell_type": "markdown",
   "id": "104af895-52e2-46cf-a96c-1eb8ea678972",
   "metadata": {},
   "source": [
    "### obtain categorical and numerical features"
   ]
  },
  {
   "cell_type": "code",
   "execution_count": 10,
   "id": "bdae3e69-db13-489c-bade-bf14a2f33bff",
   "metadata": {},
   "outputs": [
    {
     "name": "stdout",
     "output_type": "stream",
     "text": [
      "['department', 'salary', 'work_accident', 'promotion_last_5years'] ['satisfaction_level', 'last_evaluation', 'number_project', 'average_montly_hours', 'time_spend_company']\n"
     ]
    }
   ],
   "source": [
    "# get categorical features\n",
    "categorical = list(df.dtypes[df.dtypes == 'object'].index)\n",
    "categorical.extend([\"work_accident\", \"promotion_last_5years\"])\n",
    "\n",
    "# get numerical features\n",
    "numerical = list(df.drop(columns=categorical).columns)\n",
    "numerical.remove(\"left\")\n",
    "\n",
    "print(categorical, numerical)"
   ]
  },
  {
   "cell_type": "markdown",
   "id": "39d26db2-2f3e-4fd6-ab6d-9aa59a737f67",
   "metadata": {},
   "source": [
    "- Target is: 'left'\n",
    "- Categorical features include: 'department', 'salary', 'work_accident', 'promotion_last_5years'\n",
    "- Numerical features include: 'satisfaction_level', 'last_evaluation', 'number_project', 'average_montly_hours', 'time_spend_company'"
   ]
  },
  {
   "cell_type": "markdown",
   "id": "cd97a247-46a5-4e47-b546-02bc1ae3e545",
   "metadata": {},
   "source": [
    "### imbalanced data"
   ]
  },
  {
   "cell_type": "code",
   "execution_count": 11,
   "id": "cf0e4eed-b893-4d47-9519-d2096599574f",
   "metadata": {},
   "outputs": [
    {
     "data": {
      "image/png": "[encoded data removed]",
      "text/plain": [
       "<Figure size 640x480 with 1 Axes>"
      ]
     },
     "metadata": {},
     "output_type": "display_data"
    }
   ],
   "source": [
    "left = list(df.left.value_counts())\n",
    "\n",
    "plt.bar([\"Flase\", \"True\"], left)\n",
    "plt.show()"
   ]
  },
  {
   "cell_type": "code",
   "execution_count": 12,
   "id": "6b21b1e5-fa00-4a30-bb18-d1f67b042cba",
   "metadata": {},
   "outputs": [
    {
     "data": {
      "text/plain": [
       "[0.8339588024351597, 0.1660411975648403]"
      ]
     },
     "execution_count": 12,
     "metadata": {},
     "output_type": "execute_result"
    }
   ],
   "source": [
    "list(map(lambda x: x/df.shape[0], df.left.value_counts()))"
   ]
  },
  {
   "cell_type": "markdown",
   "id": "e8ad52e1-bca6-4937-a31d-5610602de3e0",
   "metadata": {},
   "source": [
    "### feature importance and engineering"
   ]
  },
  {
   "cell_type": "code",
   "execution_count": 13,
   "id": "f9e9fe03-f8bf-437d-8a02-c5b4257a1c79",
   "metadata": {},
   "outputs": [
    {
     "name": "stdout",
     "output_type": "stream",
     "text": [
      "department\n",
      "sales          3239\n",
      "technical      2244\n",
      "support        1821\n",
      "IT              976\n",
      "RandD           694\n",
      "product_mng     686\n",
      "marketing       673\n",
      "accounting      621\n",
      "hr              601\n",
      "management      436\n",
      "Name: count, dtype: int64 \n",
      "\n",
      "Mutual info between retention and department: 0.0009237527382885066 \n",
      "\n",
      "salary\n",
      "low       5740\n",
      "medium    5261\n",
      "high       990\n",
      "Name: count, dtype: int64 \n",
      "\n",
      "Mutual info between retention and salary: 0.008497990094004336 \n",
      "\n",
      "work_accident\n",
      "0    10141\n",
      "1     1850\n",
      "Name: count, dtype: int64 \n",
      "\n",
      "Mutual info between retention and work_accident: 0.00969738527197149 \n",
      "\n",
      "promotion_last_5years\n",
      "0    11788\n",
      "1      203\n",
      "Name: count, dtype: int64 \n",
      "\n",
      "Mutual info between retention and promotion_last_5years: 0.001356175449427931 \n",
      "\n"
     ]
    }
   ],
   "source": [
    "# explore categorical features with mutual info\n",
    "for col in categorical:\n",
    "    print(df[col].value_counts(), \"\\n\")\n",
    "    print(f\"Mutual info between retention and {col}: {mutual_info_score(df.left, df[col])}\", \"\\n\")"
   ]
  },
  {
   "cell_type": "markdown",
   "id": "3178b889-f96f-47a5-a6ad-cb5b294e5304",
   "metadata": {},
   "source": [
    "$\\to$ Based on the result of mutual information, it is likely that salary and work_accident are more of potential features to predict employee retention than the rest. Hence, we will include these in the models."
   ]
  },
  {
   "cell_type": "code",
   "execution_count": 14,
   "id": "be087726-7eff-48bd-a3f2-5f62cf38e2c5",
   "metadata": {},
   "outputs": [
    {
     "data": {
      "text/plain": [
       "satisfaction_level     -0.350558\n",
       "last_evaluation         0.013520\n",
       "number_project          0.030928\n",
       "average_montly_hours    0.070409\n",
       "time_spend_company      0.173295\n",
       "dtype: float64"
      ]
     },
     "execution_count": 14,
     "metadata": {},
     "output_type": "execute_result"
    }
   ],
   "source": [
    "# explore numerical features with correlation matrix\n",
    "df[numerical].corrwith(df.left)"
   ]
  },
  {
   "cell_type": "markdown",
   "id": "f3a1b2a4-8978-4679-b050-f9fd637a326c",
   "metadata": {},
   "source": [
    "$\\to$ The correlation matrix tells us that, only features like satisfaction_level, time_spend_company, and average_monthly_hours are likely affected employee retention. Hence, we will also include them in the models, and save the others for further investigation."
   ]
  },
  {
   "cell_type": "code",
   "execution_count": 15,
   "id": "a226a4aa-059b-4023-8fa4-daf4b7404644",
   "metadata": {},
   "outputs": [],
   "source": [
    "# features will be used in prediction\n",
    "categorical = [\"salary\", \"work_accident\"]\n",
    "numerical = [\"satisfaction_level\", \"time_spend_company\", \"average_montly_hours\"]\n",
    "target = \"left\"\n",
    "\n",
    "variables = categorical + numerical\n",
    "variables.append(target)"
   ]
  },
  {
   "cell_type": "markdown",
   "id": "3a770afe-198a-40d6-9512-fd8bad1f93b3",
   "metadata": {},
   "source": [
    "### outliers"
   ]
  },
  {
   "cell_type": "code",
   "execution_count": 16,
   "id": "9a8a98ba-5e70-4e73-8c1a-37e5e8391524",
   "metadata": {},
   "outputs": [
    {
     "data": {
      "image/png": "[encoded data removed]",
      "text/plain": [
       "<Figure size 1000x1500 with 3 Axes>"
      ]
     },
     "metadata": {},
     "output_type": "display_data"
    }
   ],
   "source": [
    "# detect outliers for numerical values\n",
    "plt.figure(figsize=(10, 15))\n",
    "for i, col in enumerate(numerical):\n",
    "    plt.subplot(5, 2, i + 1)\n",
    "    sns.boxplot(df, x=col)\n",
    "plt.tight_layout()\n",
    "plt.show()"
   ]
  },
  {
   "cell_type": "markdown",
   "id": "5f6b6fdf-4f35-42da-a814-f3c8ad42ceb9",
   "metadata": {},
   "source": [
    "$\\to$ From the boxplots, we can observe that time_spend_company varible contains multiple outilers that need to be addressed. But before we can decide wheter or not to remove outliers, it is important to first investigate the reason behind the existence of these values. And since some models are more sensitive to outliers than other, it also depends on the type of models we choose."
   ]
  },
  {
   "cell_type": "markdown",
   "id": "34f8478b-0d3e-4ce3-9c36-5e4fb418d430",
   "metadata": {},
   "source": [
    "### validation framework\n",
    "Setting up a validation process includes:\n",
    "- Full Train data (80%) use for cross validation\n",
    "- Test data (20%)"
   ]
  },
  {
   "cell_type": "code",
   "execution_count": 17,
   "id": "e6df6c11-aa93-4358-92c5-f9ca17287f2e",
   "metadata": {},
   "outputs": [
    {
     "data": {
      "text/plain": [
       "(9592, 2399)"
      ]
     },
     "execution_count": 17,
     "metadata": {},
     "output_type": "execute_result"
    }
   ],
   "source": [
    "# spliting data\n",
    "df_full_train, df_test = train_test_split(df[variables], test_size=0.2, random_state=1)\n",
    "len(df_full_train), len(df_test)"
   ]
  },
  {
   "cell_type": "code",
   "execution_count": 18,
   "id": "a62601c3-0728-481b-b715-b69937bb4f3b",
   "metadata": {},
   "outputs": [
    {
     "data": {
      "text/html": [
       "<div>\n",
       "<style scoped>\n",
       "    .dataframe tbody tr th:only-of-type {\n",
       "        vertical-align: middle;\n",
       "    }\n",
       "\n",
       "    .dataframe tbody tr th {\n",
       "        vertical-align: top;\n",
       "    }\n",
       "\n",
       "    .dataframe thead th {\n",
       "        text-align: right;\n",
       "    }\n",
       "</style>\n",
       "<table border=\"1\" class=\"dataframe\">\n",
       "  <thead>\n",
       "    <tr style=\"text-align: right;\">\n",
       "      <th></th>\n",
       "      <th>salary</th>\n",
       "      <th>work_accident</th>\n",
       "      <th>satisfaction_level</th>\n",
       "      <th>time_spend_company</th>\n",
       "      <th>average_montly_hours</th>\n",
       "      <th>left</th>\n",
       "    </tr>\n",
       "  </thead>\n",
       "  <tbody>\n",
       "    <tr>\n",
       "      <th>4133</th>\n",
       "      <td>high</td>\n",
       "      <td>0</td>\n",
       "      <td>0.52</td>\n",
       "      <td>3</td>\n",
       "      <td>234</td>\n",
       "      <td>0</td>\n",
       "    </tr>\n",
       "    <tr>\n",
       "      <th>11072</th>\n",
       "      <td>medium</td>\n",
       "      <td>0</td>\n",
       "      <td>1.00</td>\n",
       "      <td>3</td>\n",
       "      <td>264</td>\n",
       "      <td>0</td>\n",
       "    </tr>\n",
       "    <tr>\n",
       "      <th>7693</th>\n",
       "      <td>medium</td>\n",
       "      <td>1</td>\n",
       "      <td>0.69</td>\n",
       "      <td>5</td>\n",
       "      <td>262</td>\n",
       "      <td>0</td>\n",
       "    </tr>\n",
       "    <tr>\n",
       "      <th>3258</th>\n",
       "      <td>medium</td>\n",
       "      <td>1</td>\n",
       "      <td>0.48</td>\n",
       "      <td>3</td>\n",
       "      <td>223</td>\n",
       "      <td>0</td>\n",
       "    </tr>\n",
       "    <tr>\n",
       "      <th>9139</th>\n",
       "      <td>low</td>\n",
       "      <td>0</td>\n",
       "      <td>0.69</td>\n",
       "      <td>3</td>\n",
       "      <td>225</td>\n",
       "      <td>0</td>\n",
       "    </tr>\n",
       "    <tr>\n",
       "      <th>4843</th>\n",
       "      <td>low</td>\n",
       "      <td>0</td>\n",
       "      <td>0.70</td>\n",
       "      <td>5</td>\n",
       "      <td>176</td>\n",
       "      <td>0</td>\n",
       "    </tr>\n",
       "    <tr>\n",
       "      <th>2168</th>\n",
       "      <td>medium</td>\n",
       "      <td>0</td>\n",
       "      <td>0.80</td>\n",
       "      <td>2</td>\n",
       "      <td>136</td>\n",
       "      <td>0</td>\n",
       "    </tr>\n",
       "    <tr>\n",
       "      <th>7092</th>\n",
       "      <td>low</td>\n",
       "      <td>0</td>\n",
       "      <td>0.29</td>\n",
       "      <td>4</td>\n",
       "      <td>117</td>\n",
       "      <td>0</td>\n",
       "    </tr>\n",
       "    <tr>\n",
       "      <th>6865</th>\n",
       "      <td>medium</td>\n",
       "      <td>0</td>\n",
       "      <td>0.23</td>\n",
       "      <td>6</td>\n",
       "      <td>238</td>\n",
       "      <td>0</td>\n",
       "    </tr>\n",
       "    <tr>\n",
       "      <th>8594</th>\n",
       "      <td>low</td>\n",
       "      <td>0</td>\n",
       "      <td>0.91</td>\n",
       "      <td>3</td>\n",
       "      <td>262</td>\n",
       "      <td>0</td>\n",
       "    </tr>\n",
       "  </tbody>\n",
       "</table>\n",
       "</div>"
      ],
      "text/plain": [
       "       salary  work_accident  satisfaction_level  time_spend_company  \\\n",
       "4133     high              0                0.52                   3   \n",
       "11072  medium              0                1.00                   3   \n",
       "7693   medium              1                0.69                   5   \n",
       "3258   medium              1                0.48                   3   \n",
       "9139      low              0                0.69                   3   \n",
       "4843      low              0                0.70                   5   \n",
       "2168   medium              0                0.80                   2   \n",
       "7092      low              0                0.29                   4   \n",
       "6865   medium              0                0.23                   6   \n",
       "8594      low              0                0.91                   3   \n",
       "\n",
       "       average_montly_hours  left  \n",
       "4133                    234     0  \n",
       "11072                   264     0  \n",
       "7693                    262     0  \n",
       "3258                    223     0  \n",
       "9139                    225     0  \n",
       "4843                    176     0  \n",
       "2168                    136     0  \n",
       "7092                    117     0  \n",
       "6865                    238     0  \n",
       "8594                    262     0  "
      ]
     },
     "execution_count": 18,
     "metadata": {},
     "output_type": "execute_result"
    }
   ],
   "source": [
    "df_full_train.head(10)"
   ]
  },
  {
   "cell_type": "markdown",
   "id": "e0bc722e-1a61-4114-8e7f-d52194651b87",
   "metadata": {},
   "source": [
    "# Chapter 2: Model implementation"
   ]
  },
  {
   "cell_type": "markdown",
   "id": "20c37f99-442f-4e3a-b9a6-61bf38ad03dd",
   "metadata": {},
   "source": [
    "## 2.1 Obtain features and target values"
   ]
  },
  {
   "cell_type": "code",
   "execution_count": 19,
   "id": "995b22c5-766f-4aa9-8846-9d1e3fc9e67c",
   "metadata": {},
   "outputs": [],
   "source": [
    "def getXy(data):\n",
    "    X = data.drop(columns=[target])\n",
    "    y = data[target].values\n",
    "    return X, y\n",
    "\n",
    "X_train, y_train = getXy(df_full_train)\n",
    "X_test, y_test = getXy(df_test)"
   ]
  },
  {
   "cell_type": "markdown",
   "id": "27ea4436-68a1-461c-a1b3-206247bc2eaa",
   "metadata": {},
   "source": [
    "## 2.2 Train NB variants with cross-validation"
   ]
  },
  {
   "cell_type": "code",
   "execution_count": 20,
   "id": "d8fee9b6-b010-4d35-8927-a0d6e5c13289",
   "metadata": {},
   "outputs": [
    {
     "name": "stdout",
     "output_type": "stream",
     "text": [
      "Gaussian: roc_auc_score = 0.8214958242743997\n",
      "Multinomial: roc_auc_score = 0.770979639434021\n",
      "Bernoulli: roc_auc_score = 0.6250833146610345\n"
     ]
    }
   ],
   "source": [
    "nb_variants = {\n",
    "    'gaussian': GaussianNB(),\n",
    "    'multinomial': MultinomialNB(),\n",
    "    'bernoulli': BernoulliNB()\n",
    "}\n",
    "\n",
    "# init multiple models at a time\n",
    "for name, model in nb_variants.items():\n",
    "    nb_variants[name] = NBWrapper(model=model, target=target,\n",
    "                                  num=numerical, cat=categorical)\n",
    "\n",
    "# apply cross-validate for each model\n",
    "for name, wrapper in nb_variants.items():\n",
    "    score = wrapper.cross_validate(X_train, y_train)\n",
    "    print(f\"{name.capitalize()}: roc_auc_score = {score}\")"
   ]
  },
  {
   "cell_type": "markdown",
   "id": "da80bc88-6131-4bfa-bfac-9804e143cceb",
   "metadata": {},
   "source": [
    "# Chapter 3: Fine-tuning models"
   ]
  },
  {
   "cell_type": "markdown",
   "id": "9e766e85-2395-4307-bb28-ce7c73ea376e",
   "metadata": {},
   "source": [
    "## 3.1 Tune with predefined hyperparameters"
   ]
  },
  {
   "cell_type": "code",
   "execution_count": 21,
   "id": "dd5f0a60-a36b-4f89-818a-6e1954a4a186",
   "metadata": {},
   "outputs": [
    {
     "name": "stdout",
     "output_type": "stream",
     "text": [
      "Best Parameters for Gaussian: {'classifier__var_smoothing': 1e-09}\n",
      "Best Parameters for Multinomial: {'classifier__alpha': 0.1, 'classifier__fit_prior': True}\n",
      "Best Parameters for Bernoulli: {'classifier__alpha': 0.1, 'classifier__binarize': 0.5, 'classifier__fit_prior': True}\n"
     ]
    }
   ],
   "source": [
    "params = {\n",
    "    'gaussian': {\n",
    "        'classifier__var_smoothing': [1e-9, 1e-8, 1e-7, 1e-6]\n",
    "    },\n",
    "    'multinomial': {\n",
    "        'classifier__alpha': [0.1, 0.5, 1.0, 1.5, 2.0], \n",
    "        'classifier__fit_prior': [True, False]\n",
    "    },\n",
    "    'bernoulli': {\n",
    "        'classifier__alpha': [0.1, 0.5, 1.0, 1.5, 2.0],\n",
    "        'classifier__binarize': [0.0, 0.5, 1.0],\n",
    "        'classifier__fit_prior': [True, False]\n",
    "    }\n",
    "}\n",
    "\n",
    "for name, wrapper in nb_variants.items():\n",
    "    best_params = wrapper.grid_search(X=X_train, y=y_train, param_grid=params[name])\n",
    "    print(f\"Best Parameters for {name.capitalize()}: {best_params}\")"
   ]
  },
  {
   "cell_type": "markdown",
   "id": "5d784c75-517f-4fe9-823f-fcfed814f63a",
   "metadata": {},
   "source": [
    "## 3.2 Retrain with new parameters"
   ]
  },
  {
   "cell_type": "code",
   "execution_count": 22,
   "id": "35b8107c-e141-4b12-ace1-17c721d6a936",
   "metadata": {},
   "outputs": [
    {
     "name": "stdout",
     "output_type": "stream",
     "text": [
      "Gaussian: roc_auc_score = 0.8214958242743997\n",
      "Multinomial: roc_auc_score = 0.7710627226641253\n",
      "Bernoulli: roc_auc_score = 0.7985284361349695\n"
     ]
    }
   ],
   "source": [
    "nb_variants = {\n",
    "    'gaussian': GaussianNB(var_smoothing=1e-06),\n",
    "    'multinomial': MultinomialNB(alpha=0.1, fit_prior=True),\n",
    "    'bernoulli': BernoulliNB(alpha=0.1, binarize=0.5, fit_prior=True)\n",
    "}\n",
    "\n",
    "# init multiple models at a time\n",
    "for name, model in nb_variants.items():\n",
    "    nb_variants[name] = NBWrapper(model=model, target=target,\n",
    "                                  num=numerical, cat=categorical)\n",
    "\n",
    "# apply cross-validate for each model\n",
    "train_score = {}\n",
    "for name, wrapper in nb_variants.items():\n",
    "    train_score[name] = wrapper.cross_validate(X_train, y_train)\n",
    "    print(f\"{name.capitalize()}: roc_auc_score = {train_score[name]}\")"
   ]
  },
  {
   "cell_type": "markdown",
   "id": "b3eb1d46-c996-49e0-a571-29b0bb88508b",
   "metadata": {},
   "source": [
    "## 3.3 Test with test dataset"
   ]
  },
  {
   "cell_type": "code",
   "execution_count": 23,
   "id": "1bebdff4-6e38-4240-ba21-479d49e64b53",
   "metadata": {},
   "outputs": [
    {
     "name": "stdout",
     "output_type": "stream",
     "text": [
      "Gaussian: roc_auc_score = 0.7499762713101888\n",
      "Multinomial: roc_auc_score = 0.5\n",
      "Bernoulli: roc_auc_score = 0.6471994061743267\n"
     ]
    }
   ],
   "source": [
    "# fit model and test with test dataset\n",
    "cm = {}\n",
    "test_score = {}\n",
    "for name, wrapper in nb_variants.items():\n",
    "    model = wrapper.model\n",
    "    model.fit(X_train, y_train)\n",
    "    y_pred = model.predict(X_test)\n",
    "    \n",
    "    cm[name] = confusion_matrix(y_test, y_pred)\n",
    "    test_score[name] = roc_auc_score(y_test, y_pred)\n",
    "    print(f\"{name.capitalize()}: roc_auc_score = {test_score[name]}\")"
   ]
  },
  {
   "cell_type": "markdown",
   "id": "52faf6ce-dd74-450c-96e7-bd7dc293935e",
   "metadata": {},
   "source": [
    "# Chapter 4: Evaluation"
   ]
  },
  {
   "cell_type": "code",
   "execution_count": 24,
   "id": "81763b94-20f8-49a7-a759-e1a270538678",
   "metadata": {},
   "outputs": [
    {
     "data": {
      "image/png": "[encoded data removed]",
      "text/plain": [
       "<Figure size 640x480 with 1 Axes>"
      ]
     },
     "metadata": {},
     "output_type": "display_data"
    }
   ],
   "source": [
    "models = ['gaussian', 'multinomial', 'bernoulli']\n",
    "scores = {\n",
    "    'train': (0.82, 0.77, 0.79),\n",
    "    'test': (0.74, 0.5, 0.64)\n",
    "}\n",
    "\n",
    "# create dataframe to suite with seaborn barplot\n",
    "data = []\n",
    "for model, train, test in zip(models, scores['train'], scores['test']):\n",
    "    data.append({'Model': model, 'Dataset': 'Train', 'ROC-AUC score': train})\n",
    "    data.append({'Model': model, 'Dataset': 'Test', 'ROC-AUC score': test})\n",
    "\n",
    "df = pd.DataFrame(data)\n",
    "\n",
    "# plot the data\n",
    "ax = sns.barplot(data=df, x='Model', y='ROC-AUC score', hue='Dataset', errorbar=None)\n",
    "ax.bar_label(ax.containers[0], fontsize=10)\n",
    "ax.bar_label(ax.containers[1], fontsize=10)\n",
    "plt.title('Model Performance on Train and Test Datasets')\n",
    "plt.show()"
   ]
  },
  {
   "cell_type": "code",
   "execution_count": 25,
   "id": "507fb082-248b-4edc-b82a-3ca95844eac1",
   "metadata": {},
   "outputs": [
    {
     "data": {
      "image/png": "[encoded data removed]",
      "text/plain": [
       "<Figure size 1500x500 with 6 Axes>"
      ]
     },
     "metadata": {},
     "output_type": "display_data"
    }
   ],
   "source": [
    "# confusion matrix\n",
    "fig, axes = plt.subplots(1, 3, figsize=(15, 5))\n",
    "for i, (name, matrix) in enumerate(cm.items()):\n",
    "    sns.heatmap(matrix, annot=True, fmt='d', ax=axes[i])\n",
    "    axes[i].set_title(f\"{name.capitalize()}\")\n",
    "    \n",
    "plt.tight_layout()\n",
    "plt.show()"
   ]
  },
  {
   "cell_type": "markdown",
   "id": "35805410-ed25-4416-84df-58d8b6a40076",
   "metadata": {},
   "source": [
    "# Chapter 5: Deployment\n",
    "Including:\n",
    "- Save models to binary files\n",
    "- Export notebook to python script"
   ]
  },
  {
   "cell_type": "code",
   "execution_count": 57,
   "id": "582192ba-a5bf-4ef9-bbe8-ccbdcfa34c24",
   "metadata": {},
   "outputs": [],
   "source": [
    "employees = df_test[13:37].to_dict('records')"
   ]
  },
  {
   "cell_type": "code",
   "execution_count": 60,
   "id": "6244b4a1-4172-40b6-b53c-5754568138e4",
   "metadata": {},
   "outputs": [
    {
     "name": "stdout",
     "output_type": "stream",
     "text": [
      "{'salary': 'low', 'work_accident': 0, 'satisfaction_level': 0.1, 'time_spend_company': 4, 'average_montly_hours': 255, 'left': 1}\n",
      "{'retention': 1, 'retention_proba': 0.9757749920065554} \n",
      "\n",
      "{'salary': 'medium', 'work_accident': 0, 'satisfaction_level': 0.63, 'time_spend_company': 3, 'average_montly_hours': 263, 'left': 0}\n",
      "{'retention': 0, 'retention_proba': 0.40971731686284296} \n",
      "\n",
      "{'salary': 'low', 'work_accident': 0, 'satisfaction_level': 0.45, 'time_spend_company': 2, 'average_montly_hours': 206, 'left': 0}\n",
      "{'retention': 0, 'retention_proba': 0.39541682981058907} \n",
      "\n",
      "{'salary': 'medium', 'work_accident': 0, 'satisfaction_level': 0.51, 'time_spend_company': 2, 'average_montly_hours': 198, 'left': 0}\n",
      "{'retention': 0, 'retention_proba': 0.1762504794493501} \n",
      "\n",
      "{'salary': 'low', 'work_accident': 0, 'satisfaction_level': 0.58, 'time_spend_company': 2, 'average_montly_hours': 202, 'left': 0}\n",
      "{'retention': 0, 'retention_proba': 0.269475136078728} \n",
      "\n",
      "{'salary': 'medium', 'work_accident': 0, 'satisfaction_level': 0.84, 'time_spend_company': 2, 'average_montly_hours': 262, 'left': 0}\n",
      "{'retention': 0, 'retention_proba': 0.118232019209135} \n",
      "\n",
      "{'salary': 'low', 'work_accident': 0, 'satisfaction_level': 0.34, 'time_spend_company': 4, 'average_montly_hours': 175, 'left': 0}\n",
      "{'retention': 1, 'retention_proba': 0.8453842491137166} \n",
      "\n",
      "{'salary': 'low', 'work_accident': 0, 'satisfaction_level': 0.53, 'time_spend_company': 2, 'average_montly_hours': 272, 'left': 0}\n",
      "{'retention': 0, 'retention_proba': 0.4859064572891647} \n",
      "\n",
      "{'salary': 'medium', 'work_accident': 0, 'satisfaction_level': 0.17, 'time_spend_company': 4, 'average_montly_hours': 271, 'left': 0}\n",
      "{'retention': 1, 'retention_proba': 0.9338149725195387} \n",
      "\n",
      "{'salary': 'medium', 'work_accident': 0, 'satisfaction_level': 0.82, 'time_spend_company': 3, 'average_montly_hours': 229, 'left': 0}\n",
      "{'retention': 0, 'retention_proba': 0.20965491633032843} \n",
      "\n",
      "{'salary': 'low', 'work_accident': 1, 'satisfaction_level': 0.6, 'time_spend_company': 3, 'average_montly_hours': 175, 'left': 0}\n",
      "{'retention': 0, 'retention_proba': 1.4900635591377811e-06} \n",
      "\n",
      "{'salary': 'medium', 'work_accident': 0, 'satisfaction_level': 0.99, 'time_spend_company': 3, 'average_montly_hours': 198, 'left': 0}\n",
      "{'retention': 0, 'retention_proba': 0.1460593647397796} \n",
      "\n",
      "{'salary': 'high', 'work_accident': 0, 'satisfaction_level': 0.52, 'time_spend_company': 2, 'average_montly_hours': 173, 'left': 0}\n",
      "{'retention': 0, 'retention_proba': 5.2030959752758546e-08} \n",
      "\n",
      "{'salary': 'low', 'work_accident': 0, 'satisfaction_level': 0.69, 'time_spend_company': 2, 'average_montly_hours': 158, 'left': 0}\n",
      "{'retention': 0, 'retention_proba': 0.2128560064090923} \n",
      "\n",
      "{'salary': 'low', 'work_accident': 0, 'satisfaction_level': 0.93, 'time_spend_company': 3, 'average_montly_hours': 198, 'left': 0}\n",
      "{'retention': 0, 'retention_proba': 0.29424128738383315} \n",
      "\n",
      "{'salary': 'medium', 'work_accident': 1, 'satisfaction_level': 0.63, 'time_spend_company': 2, 'average_montly_hours': 215, 'left': 0}\n",
      "{'retention': 0, 'retention_proba': 2.2009994120788633e-07} \n",
      "\n",
      "{'salary': 'low', 'work_accident': 0, 'satisfaction_level': 0.36, 'time_spend_company': 3, 'average_montly_hours': 147, 'left': 1}\n",
      "{'retention': 1, 'retention_proba': 0.771724993510125} \n",
      "\n",
      "{'salary': 'medium', 'work_accident': 0, 'satisfaction_level': 0.11, 'time_spend_company': 4, 'average_montly_hours': 267, 'left': 1}\n",
      "{'retention': 1, 'retention_proba': 0.9522328533085154} \n",
      "\n",
      "{'salary': 'low', 'work_accident': 0, 'satisfaction_level': 0.76, 'time_spend_company': 2, 'average_montly_hours': 111, 'left': 0}\n",
      "{'retention': 0, 'retention_proba': 0.27387119772481044} \n",
      "\n",
      "{'salary': 'low', 'work_accident': 0, 'satisfaction_level': 0.87, 'time_spend_company': 5, 'average_montly_hours': 307, 'left': 1}\n",
      "{'retention': 1, 'retention_proba': 0.7813723930920599} \n",
      "\n",
      "{'salary': 'low', 'work_accident': 0, 'satisfaction_level': 0.67, 'time_spend_company': 3, 'average_montly_hours': 192, 'left': 0}\n",
      "{'retention': 0, 'retention_proba': 0.4289911900509379} \n",
      "\n",
      "{'salary': 'medium', 'work_accident': 0, 'satisfaction_level': 0.16, 'time_spend_company': 5, 'average_montly_hours': 232, 'left': 0}\n",
      "{'retention': 1, 'retention_proba': 0.8994751409595203} \n",
      "\n",
      "{'salary': 'medium', 'work_accident': 0, 'satisfaction_level': 0.93, 'time_spend_company': 3, 'average_montly_hours': 241, 'left': 0}\n",
      "{'retention': 0, 'retention_proba': 0.1976927496924756} \n",
      "\n",
      "{'salary': 'low', 'work_accident': 0, 'satisfaction_level': 0.09, 'time_spend_company': 4, 'average_montly_hours': 307, 'left': 1}\n",
      "{'retention': 1, 'retention_proba': 0.991885625966569} \n",
      "\n"
     ]
    }
   ],
   "source": [
    "import requests\n",
    "url = 'http://0.0.0.0:8080/predict'\n",
    "for e in employees:\n",
    "    print(e)\n",
    "    result = requests.post(url, json=e).json()\n",
    "    print(result, '\\n')"
   ]
  },
  {
   "cell_type": "code",
   "execution_count": null,
   "id": "b9a483ad-e836-4889-a648-57a4ab8ff20d",
   "metadata": {},
   "outputs": [],
   "source": []
  }
 ],
 "metadata": {
  "kernelspec": {
   "display_name": "Python 3 (ipykernel)",
   "language": "python",
   "name": "python3"
  },
  "language_info": {
   "codemirror_mode": {
    "name": "ipython",
    "version": 3
   },
   "file_extension": ".py",
   "mimetype": "text/x-python",
   "name": "python",
   "nbconvert_exporter": "python",
   "pygments_lexer": "ipython3",
   "version": "3.10.12"
  }
 },
 "nbformat": 4,
 "nbformat_minor": 5
}
