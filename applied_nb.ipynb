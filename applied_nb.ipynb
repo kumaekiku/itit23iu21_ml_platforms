{
 "cells": [
  {
   "cell_type": "code",
   "execution_count": 1,
   "id": "88a7989b-acfe-4ffa-bcb5-29c61237e48e",
   "metadata": {},
   "outputs": [],
   "source": [
    "import pandas as pd\n",
    "import numpy as np\n",
    "import matplotlib.pyplot as plt\n",
    "import seaborn as sns\n",
    "\n",
    "from sklearn.metrics import mutual_info_score \n",
    "from sklearn.model_selection import train_test_split\n",
    "    \n",
    "from model_wrapper import NBVariants"
   ]
  },
  {
   "cell_type": "markdown",
   "id": "067b0d44-61b5-4856-ae0f-3fe92ed3040c",
   "metadata": {},
   "source": [
    "# Chapter 1: Data understanding and processing (EDA)"
   ]
  },
  {
   "cell_type": "markdown",
   "id": "ad15df40-ae9a-4e22-90b3-6e9b256b8bcf",
   "metadata": {},
   "source": [
    "## 1.1 Get to know the data"
   ]
  },
  {
   "cell_type": "code",
   "execution_count": 2,
   "id": "7217b34e-940a-47c7-9e06-7f9615db6d27",
   "metadata": {},
   "outputs": [
    {
     "name": "stdout",
     "output_type": "stream",
     "text": [
      "<class 'pandas.core.frame.DataFrame'>\n",
      "RangeIndex: 14999 entries, 0 to 14998\n",
      "Data columns (total 10 columns):\n",
      " #   Column                 Non-Null Count  Dtype  \n",
      "---  ------                 --------------  -----  \n",
      " 0   satisfaction_level     14999 non-null  float64\n",
      " 1   last_evaluation        14999 non-null  float64\n",
      " 2   number_project         14999 non-null  int64  \n",
      " 3   average_montly_hours   14999 non-null  int64  \n",
      " 4   time_spend_company     14999 non-null  int64  \n",
      " 5   Work_accident          14999 non-null  int64  \n",
      " 6   left                   14999 non-null  int64  \n",
      " 7   promotion_last_5years  14999 non-null  int64  \n",
      " 8   Department             14999 non-null  object \n",
      " 9   salary                 14999 non-null  object \n",
      "dtypes: float64(2), int64(6), object(2)\n",
      "memory usage: 1.1+ MB\n"
     ]
    }
   ],
   "source": [
    "path = \"./HR_comma_sep.csv\"\n",
    "df = pd.read_csv(path)\n",
    "df.info()"
   ]
  },
  {
   "cell_type": "code",
   "execution_count": 3,
   "id": "5a042bff-4a07-41fe-933f-e0ca80dc356e",
   "metadata": {},
   "outputs": [
    {
     "data": {
      "text/html": [
       "<div>\n",
       "<style scoped>\n",
       "    .dataframe tbody tr th:only-of-type {\n",
       "        vertical-align: middle;\n",
       "    }\n",
       "\n",
       "    .dataframe tbody tr th {\n",
       "        vertical-align: top;\n",
       "    }\n",
       "\n",
       "    .dataframe thead th {\n",
       "        text-align: right;\n",
       "    }\n",
       "</style>\n",
       "<table border=\"1\" class=\"dataframe\">\n",
       "  <thead>\n",
       "    <tr style=\"text-align: right;\">\n",
       "      <th></th>\n",
       "      <th>satisfaction_level</th>\n",
       "      <th>last_evaluation</th>\n",
       "      <th>number_project</th>\n",
       "      <th>average_montly_hours</th>\n",
       "      <th>time_spend_company</th>\n",
       "      <th>Work_accident</th>\n",
       "      <th>left</th>\n",
       "      <th>promotion_last_5years</th>\n",
       "      <th>Department</th>\n",
       "      <th>salary</th>\n",
       "    </tr>\n",
       "  </thead>\n",
       "  <tbody>\n",
       "    <tr>\n",
       "      <th>0</th>\n",
       "      <td>0.38</td>\n",
       "      <td>0.53</td>\n",
       "      <td>2</td>\n",
       "      <td>157</td>\n",
       "      <td>3</td>\n",
       "      <td>0</td>\n",
       "      <td>1</td>\n",
       "      <td>0</td>\n",
       "      <td>sales</td>\n",
       "      <td>low</td>\n",
       "    </tr>\n",
       "    <tr>\n",
       "      <th>1</th>\n",
       "      <td>0.80</td>\n",
       "      <td>0.86</td>\n",
       "      <td>5</td>\n",
       "      <td>262</td>\n",
       "      <td>6</td>\n",
       "      <td>0</td>\n",
       "      <td>1</td>\n",
       "      <td>0</td>\n",
       "      <td>sales</td>\n",
       "      <td>medium</td>\n",
       "    </tr>\n",
       "    <tr>\n",
       "      <th>2</th>\n",
       "      <td>0.11</td>\n",
       "      <td>0.88</td>\n",
       "      <td>7</td>\n",
       "      <td>272</td>\n",
       "      <td>4</td>\n",
       "      <td>0</td>\n",
       "      <td>1</td>\n",
       "      <td>0</td>\n",
       "      <td>sales</td>\n",
       "      <td>medium</td>\n",
       "    </tr>\n",
       "    <tr>\n",
       "      <th>3</th>\n",
       "      <td>0.72</td>\n",
       "      <td>0.87</td>\n",
       "      <td>5</td>\n",
       "      <td>223</td>\n",
       "      <td>5</td>\n",
       "      <td>0</td>\n",
       "      <td>1</td>\n",
       "      <td>0</td>\n",
       "      <td>sales</td>\n",
       "      <td>low</td>\n",
       "    </tr>\n",
       "    <tr>\n",
       "      <th>4</th>\n",
       "      <td>0.37</td>\n",
       "      <td>0.52</td>\n",
       "      <td>2</td>\n",
       "      <td>159</td>\n",
       "      <td>3</td>\n",
       "      <td>0</td>\n",
       "      <td>1</td>\n",
       "      <td>0</td>\n",
       "      <td>sales</td>\n",
       "      <td>low</td>\n",
       "    </tr>\n",
       "    <tr>\n",
       "      <th>5</th>\n",
       "      <td>0.41</td>\n",
       "      <td>0.50</td>\n",
       "      <td>2</td>\n",
       "      <td>153</td>\n",
       "      <td>3</td>\n",
       "      <td>0</td>\n",
       "      <td>1</td>\n",
       "      <td>0</td>\n",
       "      <td>sales</td>\n",
       "      <td>low</td>\n",
       "    </tr>\n",
       "    <tr>\n",
       "      <th>6</th>\n",
       "      <td>0.10</td>\n",
       "      <td>0.77</td>\n",
       "      <td>6</td>\n",
       "      <td>247</td>\n",
       "      <td>4</td>\n",
       "      <td>0</td>\n",
       "      <td>1</td>\n",
       "      <td>0</td>\n",
       "      <td>sales</td>\n",
       "      <td>low</td>\n",
       "    </tr>\n",
       "    <tr>\n",
       "      <th>7</th>\n",
       "      <td>0.92</td>\n",
       "      <td>0.85</td>\n",
       "      <td>5</td>\n",
       "      <td>259</td>\n",
       "      <td>5</td>\n",
       "      <td>0</td>\n",
       "      <td>1</td>\n",
       "      <td>0</td>\n",
       "      <td>sales</td>\n",
       "      <td>low</td>\n",
       "    </tr>\n",
       "    <tr>\n",
       "      <th>8</th>\n",
       "      <td>0.89</td>\n",
       "      <td>1.00</td>\n",
       "      <td>5</td>\n",
       "      <td>224</td>\n",
       "      <td>5</td>\n",
       "      <td>0</td>\n",
       "      <td>1</td>\n",
       "      <td>0</td>\n",
       "      <td>sales</td>\n",
       "      <td>low</td>\n",
       "    </tr>\n",
       "    <tr>\n",
       "      <th>9</th>\n",
       "      <td>0.42</td>\n",
       "      <td>0.53</td>\n",
       "      <td>2</td>\n",
       "      <td>142</td>\n",
       "      <td>3</td>\n",
       "      <td>0</td>\n",
       "      <td>1</td>\n",
       "      <td>0</td>\n",
       "      <td>sales</td>\n",
       "      <td>low</td>\n",
       "    </tr>\n",
       "  </tbody>\n",
       "</table>\n",
       "</div>"
      ],
      "text/plain": [
       "   satisfaction_level  last_evaluation  number_project  average_montly_hours  \\\n",
       "0                0.38             0.53               2                   157   \n",
       "1                0.80             0.86               5                   262   \n",
       "2                0.11             0.88               7                   272   \n",
       "3                0.72             0.87               5                   223   \n",
       "4                0.37             0.52               2                   159   \n",
       "5                0.41             0.50               2                   153   \n",
       "6                0.10             0.77               6                   247   \n",
       "7                0.92             0.85               5                   259   \n",
       "8                0.89             1.00               5                   224   \n",
       "9                0.42             0.53               2                   142   \n",
       "\n",
       "   time_spend_company  Work_accident  left  promotion_last_5years Department  \\\n",
       "0                   3              0     1                      0      sales   \n",
       "1                   6              0     1                      0      sales   \n",
       "2                   4              0     1                      0      sales   \n",
       "3                   5              0     1                      0      sales   \n",
       "4                   3              0     1                      0      sales   \n",
       "5                   3              0     1                      0      sales   \n",
       "6                   4              0     1                      0      sales   \n",
       "7                   5              0     1                      0      sales   \n",
       "8                   5              0     1                      0      sales   \n",
       "9                   3              0     1                      0      sales   \n",
       "\n",
       "   salary  \n",
       "0     low  \n",
       "1  medium  \n",
       "2  medium  \n",
       "3     low  \n",
       "4     low  \n",
       "5     low  \n",
       "6     low  \n",
       "7     low  \n",
       "8     low  \n",
       "9     low  "
      ]
     },
     "execution_count": 3,
     "metadata": {},
     "output_type": "execute_result"
    }
   ],
   "source": [
    "df.head(10)"
   ]
  },
  {
   "cell_type": "markdown",
   "id": "e7b0acf3-5d54-44fb-9110-e2d96590b8d0",
   "metadata": {},
   "source": [
    "Th dataset contains information about employees who worked in a company. These information included:\n",
    "- Satisfactory Level\n",
    "- Number of Project\n",
    "- Average Monthly Hours\n",
    "- Time Spend Company\n",
    "- Promotion Last 5 Years\n",
    "- Department\n",
    "- Salary\n",
    "\n",
    "The information was obtained mainly to predict employees retention - choose to stay or leave the company - defined by the \"left\" column "
   ]
  },
  {
   "cell_type": "markdown",
   "id": "2ec4e509-578d-47df-ac55-595f6511b52b",
   "metadata": {},
   "source": [
    "## 1.2 Data cleaning and preprocessing\n",
    "Include handling with:\n",
    "- Inconsistent in col names\n",
    "- Missing values\n",
    "- Duplicate values\n",
    "- Identify target variable and features\n",
    "- Features importance and engineering\n",
    "- Outliers\n",
    "- Validation framework\n",
    "- Label encoding with One-hot"
   ]
  },
  {
   "cell_type": "markdown",
   "id": "38b7c55b-dab4-4705-89b9-c3526ed089bb",
   "metadata": {},
   "source": [
    "### inconsistent column names"
   ]
  },
  {
   "cell_type": "code",
   "execution_count": 4,
   "id": "d2147ff2-044d-4b55-968a-2308fe18c372",
   "metadata": {},
   "outputs": [
    {
     "name": "stdout",
     "output_type": "stream",
     "text": [
      "['satisfaction_level', 'last_evaluation', 'number_project', 'average_montly_hours', 'time_spend_company', 'work_accident', 'left', 'promotion_last_5years', 'department', 'salary']\n"
     ]
    }
   ],
   "source": [
    "# normailize cols name\n",
    "df.columns = df.columns.str.lower()\n",
    "print(list(df.columns))"
   ]
  },
  {
   "cell_type": "markdown",
   "id": "38f2dcd1-cf1c-4fa6-b918-36e681df0205",
   "metadata": {},
   "source": [
    "### missing values"
   ]
  },
  {
   "cell_type": "code",
   "execution_count": 5,
   "id": "eb7bd061-b23f-4bcc-a4ea-0d60679be689",
   "metadata": {},
   "outputs": [
    {
     "data": {
      "text/plain": [
       "satisfaction_level       0\n",
       "last_evaluation          0\n",
       "number_project           0\n",
       "average_montly_hours     0\n",
       "time_spend_company       0\n",
       "work_accident            0\n",
       "left                     0\n",
       "promotion_last_5years    0\n",
       "department               0\n",
       "salary                   0\n",
       "dtype: int64"
      ]
     },
     "execution_count": 5,
     "metadata": {},
     "output_type": "execute_result"
    }
   ],
   "source": [
    "# missing values\n",
    "df.isnull().sum()"
   ]
  },
  {
   "cell_type": "markdown",
   "id": "8ac7523e-f903-45af-9a65-765e6cf486c0",
   "metadata": {},
   "source": [
    "$\\to$ Luckily, no missing values were found"
   ]
  },
  {
   "cell_type": "markdown",
   "id": "5e2b53ff-7986-46b4-b617-a7f59cd01b35",
   "metadata": {},
   "source": [
    "### duplicate values"
   ]
  },
  {
   "cell_type": "code",
   "execution_count": 6,
   "id": "2b5557bb-5646-4903-b0ee-a152a78dc7a1",
   "metadata": {},
   "outputs": [
    {
     "name": "stdout",
     "output_type": "stream",
     "text": [
      "0.2005467031135409\n"
     ]
    }
   ],
   "source": [
    "# duplicate values\n",
    "dups = df.duplicated().sum()\n",
    "print(dups/df.shape[0])"
   ]
  },
  {
   "cell_type": "markdown",
   "id": "bdc88a2c-1fb4-4a6a-8b98-4a2152bb74f6",
   "metadata": {},
   "source": [
    "$\\to$ 20% of the data were found to be duplicates. In this particular case, we will remove all the duplicates to prevent skewed, as each instances in the data represent an employee, and each of them should be treated independently for the best prediction result."
   ]
  },
  {
   "cell_type": "code",
   "execution_count": 7,
   "id": "875a1b4f-ddab-4404-9748-61a2eea2696d",
   "metadata": {},
   "outputs": [
    {
     "name": "stdout",
     "output_type": "stream",
     "text": [
      "Before: (14999, 10)\n",
      "After: (11991, 10)\n"
     ]
    }
   ],
   "source": [
    "# handle duplication\n",
    "print(f\"Before: {df.shape}\")\n",
    "df = df.drop_duplicates(keep='first')\n",
    "print(f\"After: {df.shape}\")"
   ]
  },
  {
   "cell_type": "markdown",
   "id": "104af895-52e2-46cf-a96c-1eb8ea678972",
   "metadata": {},
   "source": [
    "### obtain categorical and numerical features"
   ]
  },
  {
   "cell_type": "code",
   "execution_count": 8,
   "id": "bdae3e69-db13-489c-bade-bf14a2f33bff",
   "metadata": {},
   "outputs": [
    {
     "name": "stdout",
     "output_type": "stream",
     "text": [
      "['department', 'salary', 'work_accident', 'promotion_last_5years'] ['satisfaction_level', 'last_evaluation', 'number_project', 'average_montly_hours', 'time_spend_company']\n"
     ]
    }
   ],
   "source": [
    "# get categorical features\n",
    "categorical = list(df.dtypes[df.dtypes == 'object'].index)\n",
    "categorical.extend([\"work_accident\", \"promotion_last_5years\"])\n",
    "\n",
    "# get numerical features\n",
    "numerical = list(df.drop(columns=categorical).columns)\n",
    "numerical.remove(\"left\")\n",
    "\n",
    "print(categorical, numerical)"
   ]
  },
  {
   "cell_type": "markdown",
   "id": "39d26db2-2f3e-4fd6-ab6d-9aa59a737f67",
   "metadata": {},
   "source": [
    "- Target is: 'left'\n",
    "- Categorical features include: 'department', 'salary', 'work_accident', 'promotion_last_5years'\n",
    "- Numerical features include: 'satisfaction_level', 'last_evaluation', 'number_project', 'average_montly_hours', 'time_spend_company'"
   ]
  },
  {
   "cell_type": "markdown",
   "id": "e8ad52e1-bca6-4937-a31d-5610602de3e0",
   "metadata": {},
   "source": [
    "### feature importance and engineering"
   ]
  },
  {
   "cell_type": "code",
   "execution_count": 9,
   "id": "f9e9fe03-f8bf-437d-8a02-c5b4257a1c79",
   "metadata": {},
   "outputs": [
    {
     "name": "stdout",
     "output_type": "stream",
     "text": [
      "department\n",
      "sales          3239\n",
      "technical      2244\n",
      "support        1821\n",
      "IT              976\n",
      "RandD           694\n",
      "product_mng     686\n",
      "marketing       673\n",
      "accounting      621\n",
      "hr              601\n",
      "management      436\n",
      "Name: count, dtype: int64 \n",
      "\n",
      "Mutual info between retention and department: 0.0009237527382885066 \n",
      "\n",
      "salary\n",
      "low       5740\n",
      "medium    5261\n",
      "high       990\n",
      "Name: count, dtype: int64 \n",
      "\n",
      "Mutual info between retention and salary: 0.008497990094004336 \n",
      "\n",
      "work_accident\n",
      "0    10141\n",
      "1     1850\n",
      "Name: count, dtype: int64 \n",
      "\n",
      "Mutual info between retention and work_accident: 0.00969738527197149 \n",
      "\n",
      "promotion_last_5years\n",
      "0    11788\n",
      "1      203\n",
      "Name: count, dtype: int64 \n",
      "\n",
      "Mutual info between retention and promotion_last_5years: 0.001356175449427931 \n",
      "\n"
     ]
    }
   ],
   "source": [
    "# explore categorical features with mutual info\n",
    "for col in categorical:\n",
    "    print(df[col].value_counts(), \"\\n\")\n",
    "    print(f\"Mutual info between retention and {col}: {mutual_info_score(df.left, df[col])}\", \"\\n\")"
   ]
  },
  {
   "cell_type": "markdown",
   "id": "3178b889-f96f-47a5-a6ad-cb5b294e5304",
   "metadata": {},
   "source": [
    "$\\to$ Based on the result of mutual information, it is likely that salary and work_accident are more of potential features to predict employee retention than the rest. Hence, we will include these in the models."
   ]
  },
  {
   "cell_type": "code",
   "execution_count": 10,
   "id": "be087726-7eff-48bd-a3f2-5f62cf38e2c5",
   "metadata": {},
   "outputs": [
    {
     "data": {
      "text/plain": [
       "satisfaction_level     -0.350558\n",
       "last_evaluation         0.013520\n",
       "number_project          0.030928\n",
       "average_montly_hours    0.070409\n",
       "time_spend_company      0.173295\n",
       "dtype: float64"
      ]
     },
     "execution_count": 10,
     "metadata": {},
     "output_type": "execute_result"
    }
   ],
   "source": [
    "# explore numerical features with correlation matrix\n",
    "df[numerical].corrwith(df.left)"
   ]
  },
  {
   "cell_type": "markdown",
   "id": "f3a1b2a4-8978-4679-b050-f9fd637a326c",
   "metadata": {},
   "source": [
    "$\\to$ The correlation matrix tells us that, only features like satisfaction_level, time_spend_company, and average_monthly_hours are likely affected employee retention. Hence, we will also include them in the models, and save the others for further investigation."
   ]
  },
  {
   "cell_type": "code",
   "execution_count": 11,
   "id": "a226a4aa-059b-4023-8fa4-daf4b7404644",
   "metadata": {},
   "outputs": [],
   "source": [
    "# features will be used in prediction\n",
    "categorical = [\"salary\", \"work_accident\"]\n",
    "numerical = [\"satisfaction_level\", \"time_spend_company\", \"average_montly_hours\"]"
   ]
  },
  {
   "cell_type": "markdown",
   "id": "3a770afe-198a-40d6-9512-fd8bad1f93b3",
   "metadata": {},
   "source": [
    "### outliers"
   ]
  },
  {
   "cell_type": "code",
   "execution_count": 12,
   "id": "9a8a98ba-5e70-4e73-8c1a-37e5e8391524",
   "metadata": {},
   "outputs": [
    {
     "data": {
      "image/png": "[encoded data removed]",
      "text/plain": [
       "<Figure size 1000x1500 with 3 Axes>"
      ]
     },
     "metadata": {},
     "output_type": "display_data"
    }
   ],
   "source": [
    "# detect outliers for numerical values\n",
    "plt.figure(figsize=(10, 15))\n",
    "for i, col in enumerate(numerical):\n",
    "    plt.subplot(5, 2, i + 1)\n",
    "    sns.boxplot(df, x=col)\n",
    "plt.tight_layout()\n",
    "plt.show()"
   ]
  },
  {
   "cell_type": "markdown",
   "id": "5f6b6fdf-4f35-42da-a814-f3c8ad42ceb9",
   "metadata": {},
   "source": [
    "$\\to$ From the boxplots, we can observe that time_spend_company varible contains multiple outilers that need to be addressed. But before we can decide wheter or not to remove outliers, it is important to first investigate the reason behind the existence of these values. And since some models are more sensitive to outliers than other, it also depends on the type of models we choose."
   ]
  },
  {
   "cell_type": "markdown",
   "id": "34f8478b-0d3e-4ce3-9c36-5e4fb418d430",
   "metadata": {},
   "source": [
    "### validation framework\n",
    "Setting up a validation process includes:\n",
    "- Train data (60%)\n",
    "- Validation data (20%)\n",
    "- Test data (20%)"
   ]
  },
  {
   "cell_type": "code",
   "execution_count": 13,
   "id": "e6df6c11-aa93-4358-92c5-f9ca17287f2e",
   "metadata": {},
   "outputs": [
    {
     "data": {
      "text/plain": [
       "(9592, 2399)"
      ]
     },
     "execution_count": 13,
     "metadata": {},
     "output_type": "execute_result"
    }
   ],
   "source": [
    "# spliting data\n",
    "df_full_train, df_test = train_test_split(df, test_size=0.2, random_state=42)\n",
    "len(df_full_train), len(df_test)"
   ]
  },
  {
   "cell_type": "markdown",
   "id": "e0bc722e-1a61-4114-8e7f-d52194651b87",
   "metadata": {},
   "source": [
    "# Chapter 2: Model implementation"
   ]
  },
  {
   "cell_type": "code",
   "execution_count": 14,
   "id": "a448bf53-133c-45f8-95d1-dd912953b1c1",
   "metadata": {},
   "outputs": [],
   "source": [
    "NB_models = NBVariants(df, target='left', numerical=numerical, categorical=categorical)"
   ]
  },
  {
   "cell_type": "code",
   "execution_count": 15,
   "id": "e65c2055-6d53-44f3-bf20-4d4db962444d",
   "metadata": {},
   "outputs": [
    {
     "name": "stdout",
     "output_type": "stream",
     "text": [
      "---Gaussian---\n",
      "              precision    recall  f1-score   support\n",
      "\n",
      "           0       0.78      0.95      0.85      6195\n",
      "           1       0.77      0.40      0.53      2798\n",
      "\n",
      "    accuracy                           0.78      8993\n",
      "   macro avg       0.77      0.67      0.69      8993\n",
      "weighted avg       0.78      0.78      0.75      8993\n",
      "\n",
      "---Multinomial---\n",
      "              precision    recall  f1-score   support\n",
      "\n",
      "           0       1.00      0.84      0.91      8972\n",
      "           1       0.00      0.24      0.01        21\n",
      "\n",
      "    accuracy                           0.84      8993\n",
      "   macro avg       0.50      0.54      0.46      8993\n",
      "weighted avg       1.00      0.84      0.91      8993\n",
      "\n",
      "---Bernoulli---\n",
      "              precision    recall  f1-score   support\n",
      "\n",
      "           0       0.00      1.00      0.00         0\n",
      "           1       1.00      0.16      0.28      8993\n",
      "\n",
      "    accuracy                           0.16      8993\n",
      "   macro avg       0.50      0.58      0.14      8993\n",
      "weighted avg       1.00      0.16      0.28      8993\n",
      "\n"
     ]
    },
    {
     "data": {
      "image/png": "[encoded data removed]",
      "text/plain": [
       "<Figure size 2000x500 with 7 Axes>"
      ]
     },
     "metadata": {},
     "output_type": "display_data"
    }
   ],
   "source": [
    "results = NB_models.train_models(test_size=0.25, random_state=1)\n",
    "NB_models.compare(results)"
   ]
  },
  {
   "cell_type": "code",
   "execution_count": null,
   "id": "b955ad4f-4017-4a65-9a40-d21a3f7c67c7",
   "metadata": {},
   "outputs": [],
   "source": []
  }
 ],
 "metadata": {
  "kernelspec": {
   "display_name": "Python 3 (ipykernel)",
   "language": "python",
   "name": "python3"
  },
  "language_info": {
   "codemirror_mode": {
    "name": "ipython",
    "version": 3
   },
   "file_extension": ".py",
   "mimetype": "text/x-python",
   "name": "python",
   "nbconvert_exporter": "python",
   "pygments_lexer": "ipython3",
   "version": "3.10.12"
  }
 },
 "nbformat": 4,
 "nbformat_minor": 5
}
